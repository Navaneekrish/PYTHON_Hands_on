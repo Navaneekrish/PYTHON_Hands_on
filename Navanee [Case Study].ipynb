{
 "cells": [
  {
   "cell_type": "code",
   "execution_count": 1,
   "id": "3d97f68d",
   "metadata": {},
   "outputs": [],
   "source": [
    "import pandas as pd\n",
    "import numpy as np\n",
    "import matplotlib.pyplot as plt\n",
    "import seaborn as sns"
   ]
  },
  {
   "cell_type": "markdown",
   "id": "ebdc7c90",
   "metadata": {},
   "source": [
    "                                    '''Practice File Case Study'''"
   ]
  },
  {
   "cell_type": "code",
   "execution_count": 2,
   "id": "930c6d0d",
   "metadata": {},
   "outputs": [
    {
     "data": {
      "text/html": [
       "<div>\n",
       "<style scoped>\n",
       "    .dataframe tbody tr th:only-of-type {\n",
       "        vertical-align: middle;\n",
       "    }\n",
       "\n",
       "    .dataframe tbody tr th {\n",
       "        vertical-align: top;\n",
       "    }\n",
       "\n",
       "    .dataframe thead th {\n",
       "        text-align: right;\n",
       "    }\n",
       "</style>\n",
       "<table border=\"1\" class=\"dataframe\">\n",
       "  <thead>\n",
       "    <tr style=\"text-align: right;\">\n",
       "      <th></th>\n",
       "      <th>MSSubClass</th>\n",
       "      <th>MSZoning</th>\n",
       "      <th>LotArea</th>\n",
       "      <th>LotShape</th>\n",
       "      <th>LotConfig</th>\n",
       "      <th>LandSlope</th>\n",
       "      <th>OverallQual</th>\n",
       "      <th>YearBuilt</th>\n",
       "      <th>MasVnrArea</th>\n",
       "      <th>ExterQual</th>\n",
       "      <th>BsmtExposure</th>\n",
       "    </tr>\n",
       "  </thead>\n",
       "  <tbody>\n",
       "    <tr>\n",
       "      <th>0</th>\n",
       "      <td>60</td>\n",
       "      <td>RL</td>\n",
       "      <td>8450</td>\n",
       "      <td>Reg</td>\n",
       "      <td>Inside</td>\n",
       "      <td>Gtl</td>\n",
       "      <td>7</td>\n",
       "      <td>2003</td>\n",
       "      <td>196</td>\n",
       "      <td>Gd</td>\n",
       "      <td>No</td>\n",
       "    </tr>\n",
       "    <tr>\n",
       "      <th>1</th>\n",
       "      <td>20</td>\n",
       "      <td>RL</td>\n",
       "      <td>9600</td>\n",
       "      <td>Reg</td>\n",
       "      <td>FR2</td>\n",
       "      <td>Gtl</td>\n",
       "      <td>6</td>\n",
       "      <td>1976</td>\n",
       "      <td>0</td>\n",
       "      <td>TA</td>\n",
       "      <td>Gd</td>\n",
       "    </tr>\n",
       "    <tr>\n",
       "      <th>2</th>\n",
       "      <td>60</td>\n",
       "      <td>RL</td>\n",
       "      <td>11250</td>\n",
       "      <td>IR1</td>\n",
       "      <td>Inside</td>\n",
       "      <td>Gtl</td>\n",
       "      <td>7</td>\n",
       "      <td>2001</td>\n",
       "      <td>162</td>\n",
       "      <td>Gd</td>\n",
       "      <td>Mn</td>\n",
       "    </tr>\n",
       "    <tr>\n",
       "      <th>3</th>\n",
       "      <td>70</td>\n",
       "      <td>RL</td>\n",
       "      <td>9550</td>\n",
       "      <td>IR1</td>\n",
       "      <td>Corner</td>\n",
       "      <td>Gtl</td>\n",
       "      <td>7</td>\n",
       "      <td>1915</td>\n",
       "      <td>0</td>\n",
       "      <td>TA</td>\n",
       "      <td>No</td>\n",
       "    </tr>\n",
       "    <tr>\n",
       "      <th>4</th>\n",
       "      <td>60</td>\n",
       "      <td>RL</td>\n",
       "      <td>14260</td>\n",
       "      <td>IR1</td>\n",
       "      <td>FR2</td>\n",
       "      <td>Gtl</td>\n",
       "      <td>8</td>\n",
       "      <td>2000</td>\n",
       "      <td>350</td>\n",
       "      <td>Gd</td>\n",
       "      <td>Av</td>\n",
       "    </tr>\n",
       "  </tbody>\n",
       "</table>\n",
       "</div>"
      ],
      "text/plain": [
       "   MSSubClass MSZoning  LotArea LotShape LotConfig LandSlope  OverallQual  \\\n",
       "0          60       RL     8450      Reg    Inside       Gtl            7   \n",
       "1          20       RL     9600      Reg       FR2       Gtl            6   \n",
       "2          60       RL    11250      IR1    Inside       Gtl            7   \n",
       "3          70       RL     9550      IR1    Corner       Gtl            7   \n",
       "4          60       RL    14260      IR1       FR2       Gtl            8   \n",
       "\n",
       "   YearBuilt  MasVnrArea ExterQual BsmtExposure  \n",
       "0       2003         196        Gd           No  \n",
       "1       1976           0        TA           Gd  \n",
       "2       2001         162        Gd           Mn  \n",
       "3       1915           0        TA           No  \n",
       "4       2000         350        Gd           Av  "
      ]
     },
     "execution_count": 2,
     "metadata": {},
     "output_type": "execute_result"
    }
   ],
   "source": [
    "#To read the file \n",
    "df=pd.read_csv(r'D:\\Class\\PYTHON\\Python\\2. Python class\\21. Case study\\practice.csv')\n",
    "df.head()"
   ]
  },
  {
   "cell_type": "code",
   "execution_count": 8,
   "id": "3176cdc0",
   "metadata": {},
   "outputs": [
    {
     "data": {
      "text/plain": [
       "(30, 11)"
      ]
     },
     "execution_count": 8,
     "metadata": {},
     "output_type": "execute_result"
    }
   ],
   "source": [
    "#shape\n",
    "df.shape"
   ]
  },
  {
   "cell_type": "code",
   "execution_count": 9,
   "id": "fc19b6df",
   "metadata": {},
   "outputs": [
    {
     "data": {
      "text/html": [
       "<div>\n",
       "<style scoped>\n",
       "    .dataframe tbody tr th:only-of-type {\n",
       "        vertical-align: middle;\n",
       "    }\n",
       "\n",
       "    .dataframe tbody tr th {\n",
       "        vertical-align: top;\n",
       "    }\n",
       "\n",
       "    .dataframe thead th {\n",
       "        text-align: right;\n",
       "    }\n",
       "</style>\n",
       "<table border=\"1\" class=\"dataframe\">\n",
       "  <thead>\n",
       "    <tr style=\"text-align: right;\">\n",
       "      <th></th>\n",
       "      <th>MSSubClass</th>\n",
       "      <th>LotArea</th>\n",
       "      <th>OverallQual</th>\n",
       "      <th>YearBuilt</th>\n",
       "      <th>MasVnrArea</th>\n",
       "    </tr>\n",
       "  </thead>\n",
       "  <tbody>\n",
       "    <tr>\n",
       "      <th>count</th>\n",
       "      <td>30.000000</td>\n",
       "      <td>30.000000</td>\n",
       "      <td>30.000000</td>\n",
       "      <td>30.000000</td>\n",
       "      <td>30.000000</td>\n",
       "    </tr>\n",
       "    <tr>\n",
       "      <th>mean</th>\n",
       "      <td>45.000000</td>\n",
       "      <td>10257.700000</td>\n",
       "      <td>6.300000</td>\n",
       "      <td>1973.033333</td>\n",
       "      <td>120.633333</td>\n",
       "    </tr>\n",
       "    <tr>\n",
       "      <th>std</th>\n",
       "      <td>37.278079</td>\n",
       "      <td>2956.543883</td>\n",
       "      <td>1.393334</td>\n",
       "      <td>29.135218</td>\n",
       "      <td>162.790427</td>\n",
       "    </tr>\n",
       "    <tr>\n",
       "      <th>min</th>\n",
       "      <td>20.000000</td>\n",
       "      <td>4224.000000</td>\n",
       "      <td>4.000000</td>\n",
       "      <td>1915.000000</td>\n",
       "      <td>0.000000</td>\n",
       "    </tr>\n",
       "    <tr>\n",
       "      <th>25%</th>\n",
       "      <td>20.000000</td>\n",
       "      <td>7731.500000</td>\n",
       "      <td>5.000000</td>\n",
       "      <td>1957.250000</td>\n",
       "      <td>0.000000</td>\n",
       "    </tr>\n",
       "    <tr>\n",
       "      <th>50%</th>\n",
       "      <td>25.000000</td>\n",
       "      <td>10517.000000</td>\n",
       "      <td>6.500000</td>\n",
       "      <td>1971.500000</td>\n",
       "      <td>0.000000</td>\n",
       "    </tr>\n",
       "    <tr>\n",
       "      <th>75%</th>\n",
       "      <td>60.000000</td>\n",
       "      <td>11812.500000</td>\n",
       "      <td>7.000000</td>\n",
       "      <td>2002.750000</td>\n",
       "      <td>209.000000</td>\n",
       "    </tr>\n",
       "    <tr>\n",
       "      <th>max</th>\n",
       "      <td>190.000000</td>\n",
       "      <td>16321.000000</td>\n",
       "      <td>9.000000</td>\n",
       "      <td>2007.000000</td>\n",
       "      <td>640.000000</td>\n",
       "    </tr>\n",
       "  </tbody>\n",
       "</table>\n",
       "</div>"
      ],
      "text/plain": [
       "       MSSubClass       LotArea  OverallQual    YearBuilt  MasVnrArea\n",
       "count   30.000000     30.000000    30.000000    30.000000   30.000000\n",
       "mean    45.000000  10257.700000     6.300000  1973.033333  120.633333\n",
       "std     37.278079   2956.543883     1.393334    29.135218  162.790427\n",
       "min     20.000000   4224.000000     4.000000  1915.000000    0.000000\n",
       "25%     20.000000   7731.500000     5.000000  1957.250000    0.000000\n",
       "50%     25.000000  10517.000000     6.500000  1971.500000    0.000000\n",
       "75%     60.000000  11812.500000     7.000000  2002.750000  209.000000\n",
       "max    190.000000  16321.000000     9.000000  2007.000000  640.000000"
      ]
     },
     "execution_count": 9,
     "metadata": {},
     "output_type": "execute_result"
    }
   ],
   "source": [
    "df.describe()"
   ]
  },
  {
   "cell_type": "code",
   "execution_count": 16,
   "id": "6433d05d",
   "metadata": {},
   "outputs": [
    {
     "data": {
      "text/plain": [
       "Index(['MSSubClass', 'LotArea', 'OverallQual', 'YearBuilt', 'MasVnrArea'], dtype='object')"
      ]
     },
     "execution_count": 16,
     "metadata": {},
     "output_type": "execute_result"
    }
   ],
   "source": [
    "#creating numerical and categorical column in table\n",
    "\n",
    "numerical_columns = df.select_dtypes(include=[np.number]).columns\n",
    "numerical_columns"
   ]
  },
  {
   "cell_type": "code",
   "execution_count": 18,
   "id": "f4a055bd",
   "metadata": {},
   "outputs": [
    {
     "name": "stdout",
     "output_type": "stream",
     "text": [
      "Index(['MSZoning', 'LotShape', 'LotConfig', 'LandSlope', 'ExterQual',\n",
      "       'BsmtExposure'],\n",
      "      dtype='object')\n"
     ]
    },
    {
     "name": "stderr",
     "output_type": "stream",
     "text": [
      "C:\\Users\\admin\\AppData\\Local\\Temp\\ipykernel_13872\\301856511.py:1: DeprecationWarning: `np.object` is a deprecated alias for the builtin `object`. To silence this warning, use `object` by itself. Doing this will not modify any behavior and is safe. \n",
      "Deprecated in NumPy 1.20; for more details and guidance: https://numpy.org/devdocs/release/1.20.0-notes.html#deprecations\n",
      "  categorical_columns = df.select_dtypes(include=[np.object]).columns\n"
     ]
    }
   ],
   "source": [
    "categorical_columns = df.select_dtypes(include=[np.object]).columns\n",
    "print(categorical_columns)"
   ]
  },
  {
   "cell_type": "code",
   "execution_count": 4,
   "id": "9069e4d0",
   "metadata": {},
   "outputs": [
    {
     "data": {
      "text/html": [
       "<div>\n",
       "<style scoped>\n",
       "    .dataframe tbody tr th:only-of-type {\n",
       "        vertical-align: middle;\n",
       "    }\n",
       "\n",
       "    .dataframe tbody tr th {\n",
       "        vertical-align: top;\n",
       "    }\n",
       "\n",
       "    .dataframe thead th {\n",
       "        text-align: right;\n",
       "    }\n",
       "</style>\n",
       "<table border=\"1\" class=\"dataframe\">\n",
       "  <thead>\n",
       "    <tr style=\"text-align: right;\">\n",
       "      <th></th>\n",
       "      <th>Subclass</th>\n",
       "      <th>Zones</th>\n",
       "      <th>LotArea</th>\n",
       "      <th>LotShape</th>\n",
       "      <th>LotConfig</th>\n",
       "      <th>LandSlope</th>\n",
       "      <th>OverallQual</th>\n",
       "      <th>YearBuilt</th>\n",
       "      <th>MasVnrArea</th>\n",
       "      <th>ExterQual</th>\n",
       "      <th>BsmtExposure</th>\n",
       "    </tr>\n",
       "  </thead>\n",
       "  <tbody>\n",
       "    <tr>\n",
       "      <th>0</th>\n",
       "      <td>60</td>\n",
       "      <td>RL</td>\n",
       "      <td>8450</td>\n",
       "      <td>Reg</td>\n",
       "      <td>Inside</td>\n",
       "      <td>Gtl</td>\n",
       "      <td>7</td>\n",
       "      <td>2003</td>\n",
       "      <td>196</td>\n",
       "      <td>Gd</td>\n",
       "      <td>No</td>\n",
       "    </tr>\n",
       "    <tr>\n",
       "      <th>1</th>\n",
       "      <td>20</td>\n",
       "      <td>RL</td>\n",
       "      <td>9600</td>\n",
       "      <td>Reg</td>\n",
       "      <td>FR2</td>\n",
       "      <td>Gtl</td>\n",
       "      <td>6</td>\n",
       "      <td>1976</td>\n",
       "      <td>0</td>\n",
       "      <td>TA</td>\n",
       "      <td>Gd</td>\n",
       "    </tr>\n",
       "    <tr>\n",
       "      <th>2</th>\n",
       "      <td>60</td>\n",
       "      <td>RL</td>\n",
       "      <td>11250</td>\n",
       "      <td>IR1</td>\n",
       "      <td>Inside</td>\n",
       "      <td>Gtl</td>\n",
       "      <td>7</td>\n",
       "      <td>2001</td>\n",
       "      <td>162</td>\n",
       "      <td>Gd</td>\n",
       "      <td>Mn</td>\n",
       "    </tr>\n",
       "    <tr>\n",
       "      <th>3</th>\n",
       "      <td>70</td>\n",
       "      <td>RL</td>\n",
       "      <td>9550</td>\n",
       "      <td>IR1</td>\n",
       "      <td>Corner</td>\n",
       "      <td>Gtl</td>\n",
       "      <td>7</td>\n",
       "      <td>1915</td>\n",
       "      <td>0</td>\n",
       "      <td>TA</td>\n",
       "      <td>No</td>\n",
       "    </tr>\n",
       "    <tr>\n",
       "      <th>4</th>\n",
       "      <td>60</td>\n",
       "      <td>RL</td>\n",
       "      <td>14260</td>\n",
       "      <td>IR1</td>\n",
       "      <td>FR2</td>\n",
       "      <td>Gtl</td>\n",
       "      <td>8</td>\n",
       "      <td>2000</td>\n",
       "      <td>350</td>\n",
       "      <td>Gd</td>\n",
       "      <td>Av</td>\n",
       "    </tr>\n",
       "  </tbody>\n",
       "</table>\n",
       "</div>"
      ],
      "text/plain": [
       "   Subclass Zones  LotArea LotShape LotConfig LandSlope  OverallQual  \\\n",
       "0        60    RL     8450      Reg    Inside       Gtl            7   \n",
       "1        20    RL     9600      Reg       FR2       Gtl            6   \n",
       "2        60    RL    11250      IR1    Inside       Gtl            7   \n",
       "3        70    RL     9550      IR1    Corner       Gtl            7   \n",
       "4        60    RL    14260      IR1       FR2       Gtl            8   \n",
       "\n",
       "   YearBuilt  MasVnrArea ExterQual BsmtExposure  \n",
       "0       2003         196        Gd           No  \n",
       "1       1976           0        TA           Gd  \n",
       "2       2001         162        Gd           Mn  \n",
       "3       1915           0        TA           No  \n",
       "4       2000         350        Gd           Av  "
      ]
     },
     "execution_count": 4,
     "metadata": {},
     "output_type": "execute_result"
    }
   ],
   "source": [
    "#Rename calumn MSSubClass --> Subclass : MSZoning --> Zones [inplace = changes into the original dataframe]\n",
    "df.rename(columns={\"MSSubClass\" : \"Subclass\",\"MSZoning\" : \"Zones\"},inplace=True)\n",
    "df.head()"
   ]
  },
  {
   "cell_type": "code",
   "execution_count": 24,
   "id": "2abfa761",
   "metadata": {},
   "outputs": [
    {
     "data": {
      "text/plain": [
       "4"
      ]
     },
     "execution_count": 24,
     "metadata": {},
     "output_type": "execute_result"
    }
   ],
   "source": [
    "#to find the unique values in the column\n",
    "df[\"Zones\"].unique()\n",
    "\n",
    "#To find the count of distinct values in the column\n",
    "df[\"LotConfig\"].nunique()"
   ]
  },
  {
   "cell_type": "code",
   "execution_count": 28,
   "id": "6d2a2d3a",
   "metadata": {},
   "outputs": [
    {
     "name": "stdout",
     "output_type": "stream",
     "text": [
      "1915 2007\n"
     ]
    }
   ],
   "source": [
    "#Max and min of yearbuilt\n",
    "\n",
    "print(df.YearBuilt.min(),df.YearBuilt.max())"
   ]
  },
  {
   "cell_type": "code",
   "execution_count": 7,
   "id": "babc9c4f",
   "metadata": {},
   "outputs": [],
   "source": [
    "#Adding the column to the data table\n",
    "\n",
    "df['Year_Diff']=2023-df['YearBuilt']"
   ]
  },
  {
   "cell_type": "code",
   "execution_count": 23,
   "id": "b8c9429e",
   "metadata": {},
   "outputs": [
    {
     "data": {
      "text/html": [
       "<div>\n",
       "<style scoped>\n",
       "    .dataframe tbody tr th:only-of-type {\n",
       "        vertical-align: middle;\n",
       "    }\n",
       "\n",
       "    .dataframe tbody tr th {\n",
       "        vertical-align: top;\n",
       "    }\n",
       "\n",
       "    .dataframe thead th {\n",
       "        text-align: right;\n",
       "    }\n",
       "</style>\n",
       "<table border=\"1\" class=\"dataframe\">\n",
       "  <thead>\n",
       "    <tr style=\"text-align: right;\">\n",
       "      <th></th>\n",
       "      <th>Subclass</th>\n",
       "      <th>Zones</th>\n",
       "      <th>LotArea</th>\n",
       "      <th>LotShape</th>\n",
       "      <th>LotConfig</th>\n",
       "      <th>LandSlope</th>\n",
       "      <th>OverallQual</th>\n",
       "      <th>YearBuilt</th>\n",
       "      <th>MasVnrArea</th>\n",
       "      <th>ExterQual</th>\n",
       "      <th>BsmtExposure</th>\n",
       "      <th>Year_Diff</th>\n",
       "    </tr>\n",
       "  </thead>\n",
       "  <tbody>\n",
       "    <tr>\n",
       "      <th>0</th>\n",
       "      <td>60</td>\n",
       "      <td>RL</td>\n",
       "      <td>8450</td>\n",
       "      <td>Reg</td>\n",
       "      <td>Inside</td>\n",
       "      <td>Gtl</td>\n",
       "      <td>7</td>\n",
       "      <td>2003</td>\n",
       "      <td>196</td>\n",
       "      <td>Gd</td>\n",
       "      <td>No</td>\n",
       "      <td>20</td>\n",
       "    </tr>\n",
       "    <tr>\n",
       "      <th>1</th>\n",
       "      <td>20</td>\n",
       "      <td>RL</td>\n",
       "      <td>9600</td>\n",
       "      <td>Reg</td>\n",
       "      <td>FR2</td>\n",
       "      <td>Gtl</td>\n",
       "      <td>6</td>\n",
       "      <td>1976</td>\n",
       "      <td>0</td>\n",
       "      <td>TA</td>\n",
       "      <td>Gd</td>\n",
       "      <td>47</td>\n",
       "    </tr>\n",
       "    <tr>\n",
       "      <th>2</th>\n",
       "      <td>60</td>\n",
       "      <td>RL</td>\n",
       "      <td>11250</td>\n",
       "      <td>IR1</td>\n",
       "      <td>Inside</td>\n",
       "      <td>Gtl</td>\n",
       "      <td>7</td>\n",
       "      <td>2001</td>\n",
       "      <td>162</td>\n",
       "      <td>Gd</td>\n",
       "      <td>Mn</td>\n",
       "      <td>22</td>\n",
       "    </tr>\n",
       "    <tr>\n",
       "      <th>3</th>\n",
       "      <td>70</td>\n",
       "      <td>RL</td>\n",
       "      <td>9550</td>\n",
       "      <td>IR1</td>\n",
       "      <td>Corner</td>\n",
       "      <td>Gtl</td>\n",
       "      <td>7</td>\n",
       "      <td>1915</td>\n",
       "      <td>0</td>\n",
       "      <td>TA</td>\n",
       "      <td>No</td>\n",
       "      <td>108</td>\n",
       "    </tr>\n",
       "    <tr>\n",
       "      <th>4</th>\n",
       "      <td>60</td>\n",
       "      <td>RL</td>\n",
       "      <td>14260</td>\n",
       "      <td>IR1</td>\n",
       "      <td>FR2</td>\n",
       "      <td>Gtl</td>\n",
       "      <td>8</td>\n",
       "      <td>2000</td>\n",
       "      <td>350</td>\n",
       "      <td>Gd</td>\n",
       "      <td>Av</td>\n",
       "      <td>23</td>\n",
       "    </tr>\n",
       "    <tr>\n",
       "      <th>5</th>\n",
       "      <td>50</td>\n",
       "      <td>RL</td>\n",
       "      <td>14115</td>\n",
       "      <td>IR1</td>\n",
       "      <td>Inside</td>\n",
       "      <td>Gtl</td>\n",
       "      <td>5</td>\n",
       "      <td>1993</td>\n",
       "      <td>0</td>\n",
       "      <td>TA</td>\n",
       "      <td>No</td>\n",
       "      <td>30</td>\n",
       "    </tr>\n",
       "    <tr>\n",
       "      <th>6</th>\n",
       "      <td>20</td>\n",
       "      <td>RL</td>\n",
       "      <td>10084</td>\n",
       "      <td>Reg</td>\n",
       "      <td>Inside</td>\n",
       "      <td>Gtl</td>\n",
       "      <td>8</td>\n",
       "      <td>2004</td>\n",
       "      <td>186</td>\n",
       "      <td>Gd</td>\n",
       "      <td>Av</td>\n",
       "      <td>19</td>\n",
       "    </tr>\n",
       "    <tr>\n",
       "      <th>7</th>\n",
       "      <td>60</td>\n",
       "      <td>RL</td>\n",
       "      <td>10382</td>\n",
       "      <td>IR1</td>\n",
       "      <td>Corner</td>\n",
       "      <td>Gtl</td>\n",
       "      <td>7</td>\n",
       "      <td>1973</td>\n",
       "      <td>240</td>\n",
       "      <td>TA</td>\n",
       "      <td>Mn</td>\n",
       "      <td>50</td>\n",
       "    </tr>\n",
       "    <tr>\n",
       "      <th>8</th>\n",
       "      <td>50</td>\n",
       "      <td>RM</td>\n",
       "      <td>6120</td>\n",
       "      <td>Reg</td>\n",
       "      <td>Inside</td>\n",
       "      <td>Gtl</td>\n",
       "      <td>7</td>\n",
       "      <td>1931</td>\n",
       "      <td>0</td>\n",
       "      <td>TA</td>\n",
       "      <td>No</td>\n",
       "      <td>92</td>\n",
       "    </tr>\n",
       "    <tr>\n",
       "      <th>9</th>\n",
       "      <td>190</td>\n",
       "      <td>RL</td>\n",
       "      <td>7420</td>\n",
       "      <td>Reg</td>\n",
       "      <td>Corner</td>\n",
       "      <td>Gtl</td>\n",
       "      <td>5</td>\n",
       "      <td>1939</td>\n",
       "      <td>0</td>\n",
       "      <td>TA</td>\n",
       "      <td>No</td>\n",
       "      <td>84</td>\n",
       "    </tr>\n",
       "  </tbody>\n",
       "</table>\n",
       "</div>"
      ],
      "text/plain": [
       "   Subclass Zones  LotArea LotShape LotConfig LandSlope  OverallQual  \\\n",
       "0        60    RL     8450      Reg    Inside       Gtl            7   \n",
       "1        20    RL     9600      Reg       FR2       Gtl            6   \n",
       "2        60    RL    11250      IR1    Inside       Gtl            7   \n",
       "3        70    RL     9550      IR1    Corner       Gtl            7   \n",
       "4        60    RL    14260      IR1       FR2       Gtl            8   \n",
       "5        50    RL    14115      IR1    Inside       Gtl            5   \n",
       "6        20    RL    10084      Reg    Inside       Gtl            8   \n",
       "7        60    RL    10382      IR1    Corner       Gtl            7   \n",
       "8        50    RM     6120      Reg    Inside       Gtl            7   \n",
       "9       190    RL     7420      Reg    Corner       Gtl            5   \n",
       "\n",
       "   YearBuilt  MasVnrArea ExterQual BsmtExposure  Year_Diff  \n",
       "0       2003         196        Gd           No         20  \n",
       "1       1976           0        TA           Gd         47  \n",
       "2       2001         162        Gd           Mn         22  \n",
       "3       1915           0        TA           No        108  \n",
       "4       2000         350        Gd           Av         23  \n",
       "5       1993           0        TA           No         30  \n",
       "6       2004         186        Gd           Av         19  \n",
       "7       1973         240        TA           Mn         50  \n",
       "8       1931           0        TA           No         92  \n",
       "9       1939           0        TA           No         84  "
      ]
     },
     "execution_count": 23,
     "metadata": {},
     "output_type": "execute_result"
    }
   ],
   "source": [
    "df.head(10)"
   ]
  },
  {
   "cell_type": "code",
   "execution_count": 11,
   "id": "339c9546",
   "metadata": {},
   "outputs": [
    {
     "data": {
      "text/plain": [
       "OverallQual\n",
       "4    [RL, RM]\n",
       "5    [RL, RM]\n",
       "6        [RL]\n",
       "7    [RL, RM]\n",
       "8        [RL]\n",
       "9        [RL]\n",
       "Name: Zones, dtype: object"
      ]
     },
     "execution_count": 11,
     "metadata": {},
     "output_type": "execute_result"
    }
   ],
   "source": [
    "#display distinct from each overallqual\n",
    "\n",
    "df.groupby('OverallQual')['Zones'].unique()"
   ]
  },
  {
   "cell_type": "code",
   "execution_count": 21,
   "id": "31fb1d8c",
   "metadata": {},
   "outputs": [
    {
     "data": {
      "text/plain": [
       "11250"
      ]
     },
     "execution_count": 21,
     "metadata": {},
     "output_type": "execute_result"
    }
   ],
   "source": [
    "#what is the maximum LotArea where BsmtExposure = Mn?\n",
    "\n",
    "df[df['BsmtExposure']=='Mn']['LotArea'].max()"
   ]
  },
  {
   "cell_type": "code",
   "execution_count": 22,
   "id": "288ad503",
   "metadata": {},
   "outputs": [
    {
     "data": {
      "text/plain": [
       "2     11250\n",
       "7     10382\n",
       "24     8246\n",
       "26     7200\n",
       "Name: LotArea, dtype: int64"
      ]
     },
     "execution_count": 22,
     "metadata": {},
     "output_type": "execute_result"
    }
   ],
   "source": [
    "#LotArea where BsmtExposure = Mn?\n",
    "\n",
    "df[df['BsmtExposure']=='Mn']['LotArea']"
   ]
  },
  {
   "cell_type": "code",
   "execution_count": 27,
   "id": "d23de108",
   "metadata": {},
   "outputs": [
    {
     "data": {
      "text/html": [
       "<div>\n",
       "<style scoped>\n",
       "    .dataframe tbody tr th:only-of-type {\n",
       "        vertical-align: middle;\n",
       "    }\n",
       "\n",
       "    .dataframe tbody tr th {\n",
       "        vertical-align: top;\n",
       "    }\n",
       "\n",
       "    .dataframe thead th {\n",
       "        text-align: right;\n",
       "    }\n",
       "</style>\n",
       "<table border=\"1\" class=\"dataframe\">\n",
       "  <thead>\n",
       "    <tr style=\"text-align: right;\">\n",
       "      <th></th>\n",
       "      <th>Subclass</th>\n",
       "      <th>Zones</th>\n",
       "      <th>LotArea</th>\n",
       "      <th>LotShape</th>\n",
       "      <th>LotConfig</th>\n",
       "      <th>LandSlope</th>\n",
       "      <th>OverallQual</th>\n",
       "      <th>YearBuilt</th>\n",
       "      <th>MasVnrArea</th>\n",
       "      <th>ExterQual</th>\n",
       "      <th>BsmtExposure</th>\n",
       "      <th>Year_Diff</th>\n",
       "    </tr>\n",
       "  </thead>\n",
       "  <tbody>\n",
       "    <tr>\n",
       "      <th>25</th>\n",
       "      <td>20</td>\n",
       "      <td>RL</td>\n",
       "      <td>14230</td>\n",
       "      <td>Reg</td>\n",
       "      <td>Corner</td>\n",
       "      <td>Gtl</td>\n",
       "      <td>8</td>\n",
       "      <td>2007</td>\n",
       "      <td>640</td>\n",
       "      <td>Gd</td>\n",
       "      <td>No</td>\n",
       "      <td>16</td>\n",
       "    </tr>\n",
       "    <tr>\n",
       "      <th>27</th>\n",
       "      <td>20</td>\n",
       "      <td>RL</td>\n",
       "      <td>11478</td>\n",
       "      <td>Reg</td>\n",
       "      <td>Inside</td>\n",
       "      <td>Gtl</td>\n",
       "      <td>8</td>\n",
       "      <td>2007</td>\n",
       "      <td>200</td>\n",
       "      <td>Gd</td>\n",
       "      <td>No</td>\n",
       "      <td>16</td>\n",
       "    </tr>\n",
       "    <tr>\n",
       "      <th>13</th>\n",
       "      <td>20</td>\n",
       "      <td>RL</td>\n",
       "      <td>10652</td>\n",
       "      <td>IR1</td>\n",
       "      <td>Inside</td>\n",
       "      <td>Gtl</td>\n",
       "      <td>7</td>\n",
       "      <td>2006</td>\n",
       "      <td>306</td>\n",
       "      <td>Gd</td>\n",
       "      <td>Av</td>\n",
       "      <td>17</td>\n",
       "    </tr>\n",
       "    <tr>\n",
       "      <th>6</th>\n",
       "      <td>20</td>\n",
       "      <td>RL</td>\n",
       "      <td>10084</td>\n",
       "      <td>Reg</td>\n",
       "      <td>Inside</td>\n",
       "      <td>Gtl</td>\n",
       "      <td>8</td>\n",
       "      <td>2004</td>\n",
       "      <td>186</td>\n",
       "      <td>Gd</td>\n",
       "      <td>Av</td>\n",
       "      <td>19</td>\n",
       "    </tr>\n",
       "    <tr>\n",
       "      <th>18</th>\n",
       "      <td>20</td>\n",
       "      <td>RL</td>\n",
       "      <td>13695</td>\n",
       "      <td>Reg</td>\n",
       "      <td>Inside</td>\n",
       "      <td>Gtl</td>\n",
       "      <td>5</td>\n",
       "      <td>2004</td>\n",
       "      <td>0</td>\n",
       "      <td>TA</td>\n",
       "      <td>No</td>\n",
       "      <td>19</td>\n",
       "    </tr>\n",
       "  </tbody>\n",
       "</table>\n",
       "</div>"
      ],
      "text/plain": [
       "    Subclass Zones  LotArea LotShape LotConfig LandSlope  OverallQual  \\\n",
       "25        20    RL    14230      Reg    Corner       Gtl            8   \n",
       "27        20    RL    11478      Reg    Inside       Gtl            8   \n",
       "13        20    RL    10652      IR1    Inside       Gtl            7   \n",
       "6         20    RL    10084      Reg    Inside       Gtl            8   \n",
       "18        20    RL    13695      Reg    Inside       Gtl            5   \n",
       "\n",
       "    YearBuilt  MasVnrArea ExterQual BsmtExposure  Year_Diff  \n",
       "25       2007         640        Gd           No         16  \n",
       "27       2007         200        Gd           No         16  \n",
       "13       2006         306        Gd           Av         17  \n",
       "6        2004         186        Gd           Av         19  \n",
       "18       2004           0        TA           No         19  "
      ]
     },
     "execution_count": 27,
     "metadata": {},
     "output_type": "execute_result"
    }
   ],
   "source": [
    "#Sort values based on following columns [YearBuilt:descending Subclass:ascending]\n",
    "\n",
    "df.sort_values(by=['Subclass','YearBuilt'],ascending=[True,False]).head()"
   ]
  },
  {
   "cell_type": "code",
   "execution_count": 37,
   "id": "1201de3b",
   "metadata": {},
   "outputs": [
    {
     "data": {
      "text/plain": [
       "YearBuilt\n",
       "1915    7\n",
       "1927    4\n",
       "1929    7\n",
       "1930    7\n",
       "1931    7\n",
       "1939    5\n",
       "1951    5\n",
       "1957    5\n",
       "1958    5\n",
       "1960    6\n",
       "Name: OverallQual, dtype: int64"
      ]
     },
     "execution_count": 37,
     "metadata": {},
     "output_type": "execute_result"
    }
   ],
   "source": [
    "#Group by YearBuilt and find maximum OverallQual\n",
    "\n",
    "df.groupby('YearBuilt')['OverallQual'].max().head(10)"
   ]
  },
  {
   "cell_type": "code",
   "execution_count": 45,
   "id": "b0c9efe9",
   "metadata": {},
   "outputs": [
    {
     "data": {
      "text/plain": [
       "6.3"
      ]
     },
     "execution_count": 45,
     "metadata": {},
     "output_type": "execute_result"
    }
   ],
   "source": [
    "#what is the Average of OverallQual\n",
    "df['OverallQual'].mean()"
   ]
  },
  {
   "cell_type": "code",
   "execution_count": 41,
   "id": "bbc40b9e",
   "metadata": {},
   "outputs": [
    {
     "data": {
      "text/plain": [
       "0    196\n",
       "1     -2\n",
       "2    162\n",
       "3     -2\n",
       "4    350\n",
       "Name: MasVnrArea, dtype: int64"
      ]
     },
     "execution_count": 41,
     "metadata": {},
     "output_type": "execute_result"
    }
   ],
   "source": [
    "#replacing the values in columns[MasVnrArea]\n",
    "df['MasVnrArea']=df['MasVnrArea'].replace(0,-2)\n",
    "df['MasVnrArea'].head()"
   ]
  },
  {
   "cell_type": "code",
   "execution_count": 46,
   "id": "3a891ff6",
   "metadata": {},
   "outputs": [
    {
     "data": {
      "text/plain": [
       "Subclass        0\n",
       "Zones           0\n",
       "LotArea         0\n",
       "LotShape        0\n",
       "LotConfig       0\n",
       "LandSlope       0\n",
       "OverallQual     0\n",
       "YearBuilt       0\n",
       "MasVnrArea      0\n",
       "ExterQual       0\n",
       "BsmtExposure    1\n",
       "Year_Diff       0\n",
       "dtype: int64"
      ]
     },
     "execution_count": 46,
     "metadata": {},
     "output_type": "execute_result"
    }
   ],
   "source": [
    "#To check any null values (NaN) in the data given\n",
    "df.isnull().sum()"
   ]
  },
  {
   "cell_type": "code",
   "execution_count": 48,
   "id": "dc7f11ad",
   "metadata": {},
   "outputs": [
    {
     "data": {
      "text/plain": [
       "Subclass        0.00\n",
       "Zones           0.00\n",
       "LotArea         0.00\n",
       "LotShape        0.00\n",
       "LotConfig       0.00\n",
       "LandSlope       0.00\n",
       "OverallQual     0.00\n",
       "YearBuilt       0.00\n",
       "MasVnrArea      0.00\n",
       "ExterQual       0.00\n",
       "BsmtExposure    3.33\n",
       "Year_Diff       0.00\n",
       "dtype: float64"
      ]
     },
     "execution_count": 48,
     "metadata": {},
     "output_type": "execute_result"
    }
   ],
   "source": [
    "#To displayb the missing values percentage based on columns\n",
    "\n",
    "round(df.isnull().sum()/len(df)*100,2)"
   ]
  },
  {
   "cell_type": "code",
   "execution_count": 57,
   "id": "941ad73b",
   "metadata": {},
   "outputs": [
    {
     "data": {
      "text/html": [
       "<div>\n",
       "<style scoped>\n",
       "    .dataframe tbody tr th:only-of-type {\n",
       "        vertical-align: middle;\n",
       "    }\n",
       "\n",
       "    .dataframe tbody tr th {\n",
       "        vertical-align: top;\n",
       "    }\n",
       "\n",
       "    .dataframe thead th {\n",
       "        text-align: right;\n",
       "    }\n",
       "</style>\n",
       "<table border=\"1\" class=\"dataframe\">\n",
       "  <thead>\n",
       "    <tr style=\"text-align: right;\">\n",
       "      <th></th>\n",
       "      <th>Subclass</th>\n",
       "      <th>LotArea</th>\n",
       "      <th>OverallQual</th>\n",
       "      <th>YearBuilt</th>\n",
       "      <th>MasVnrArea</th>\n",
       "      <th>Year_Diff</th>\n",
       "    </tr>\n",
       "  </thead>\n",
       "  <tbody>\n",
       "    <tr>\n",
       "      <th>0</th>\n",
       "      <td>60</td>\n",
       "      <td>8450</td>\n",
       "      <td>7</td>\n",
       "      <td>2003</td>\n",
       "      <td>196</td>\n",
       "      <td>20</td>\n",
       "    </tr>\n",
       "    <tr>\n",
       "      <th>1</th>\n",
       "      <td>20</td>\n",
       "      <td>9600</td>\n",
       "      <td>6</td>\n",
       "      <td>1976</td>\n",
       "      <td>-2</td>\n",
       "      <td>47</td>\n",
       "    </tr>\n",
       "    <tr>\n",
       "      <th>2</th>\n",
       "      <td>60</td>\n",
       "      <td>11250</td>\n",
       "      <td>7</td>\n",
       "      <td>2001</td>\n",
       "      <td>162</td>\n",
       "      <td>22</td>\n",
       "    </tr>\n",
       "    <tr>\n",
       "      <th>3</th>\n",
       "      <td>70</td>\n",
       "      <td>9550</td>\n",
       "      <td>7</td>\n",
       "      <td>1915</td>\n",
       "      <td>-2</td>\n",
       "      <td>108</td>\n",
       "    </tr>\n",
       "    <tr>\n",
       "      <th>4</th>\n",
       "      <td>60</td>\n",
       "      <td>14260</td>\n",
       "      <td>8</td>\n",
       "      <td>2000</td>\n",
       "      <td>350</td>\n",
       "      <td>23</td>\n",
       "    </tr>\n",
       "  </tbody>\n",
       "</table>\n",
       "</div>"
      ],
      "text/plain": [
       "   Subclass  LotArea  OverallQual  YearBuilt  MasVnrArea  Year_Diff\n",
       "0        60     8450            7       2003         196         20\n",
       "1        20     9600            6       1976          -2         47\n",
       "2        60    11250            7       2001         162         22\n",
       "3        70     9550            7       1915          -2        108\n",
       "4        60    14260            8       2000         350         23"
      ]
     },
     "execution_count": 57,
     "metadata": {},
     "output_type": "execute_result"
    }
   ],
   "source": [
    "#To make the new dataframe with numeric columns\n",
    "\n",
    "df.select_dtypes(include=np.number).head(5)"
   ]
  },
  {
   "cell_type": "code",
   "execution_count": 58,
   "id": "d1e3b8c6",
   "metadata": {},
   "outputs": [
    {
     "data": {
      "text/html": [
       "<div>\n",
       "<style scoped>\n",
       "    .dataframe tbody tr th:only-of-type {\n",
       "        vertical-align: middle;\n",
       "    }\n",
       "\n",
       "    .dataframe tbody tr th {\n",
       "        vertical-align: top;\n",
       "    }\n",
       "\n",
       "    .dataframe thead th {\n",
       "        text-align: right;\n",
       "    }\n",
       "</style>\n",
       "<table border=\"1\" class=\"dataframe\">\n",
       "  <thead>\n",
       "    <tr style=\"text-align: right;\">\n",
       "      <th></th>\n",
       "      <th>Zones</th>\n",
       "      <th>LotShape</th>\n",
       "      <th>LotConfig</th>\n",
       "      <th>LandSlope</th>\n",
       "      <th>ExterQual</th>\n",
       "      <th>BsmtExposure</th>\n",
       "    </tr>\n",
       "  </thead>\n",
       "  <tbody>\n",
       "    <tr>\n",
       "      <th>0</th>\n",
       "      <td>RL</td>\n",
       "      <td>Reg</td>\n",
       "      <td>Inside</td>\n",
       "      <td>Gtl</td>\n",
       "      <td>Gd</td>\n",
       "      <td>No</td>\n",
       "    </tr>\n",
       "    <tr>\n",
       "      <th>1</th>\n",
       "      <td>RL</td>\n",
       "      <td>Reg</td>\n",
       "      <td>FR2</td>\n",
       "      <td>Gtl</td>\n",
       "      <td>TA</td>\n",
       "      <td>Gd</td>\n",
       "    </tr>\n",
       "    <tr>\n",
       "      <th>2</th>\n",
       "      <td>RL</td>\n",
       "      <td>IR1</td>\n",
       "      <td>Inside</td>\n",
       "      <td>Gtl</td>\n",
       "      <td>Gd</td>\n",
       "      <td>Mn</td>\n",
       "    </tr>\n",
       "    <tr>\n",
       "      <th>3</th>\n",
       "      <td>RL</td>\n",
       "      <td>IR1</td>\n",
       "      <td>Corner</td>\n",
       "      <td>Gtl</td>\n",
       "      <td>TA</td>\n",
       "      <td>No</td>\n",
       "    </tr>\n",
       "    <tr>\n",
       "      <th>4</th>\n",
       "      <td>RL</td>\n",
       "      <td>IR1</td>\n",
       "      <td>FR2</td>\n",
       "      <td>Gtl</td>\n",
       "      <td>Gd</td>\n",
       "      <td>Av</td>\n",
       "    </tr>\n",
       "  </tbody>\n",
       "</table>\n",
       "</div>"
      ],
      "text/plain": [
       "  Zones LotShape LotConfig LandSlope ExterQual BsmtExposure\n",
       "0    RL      Reg    Inside       Gtl        Gd           No\n",
       "1    RL      Reg       FR2       Gtl        TA           Gd\n",
       "2    RL      IR1    Inside       Gtl        Gd           Mn\n",
       "3    RL      IR1    Corner       Gtl        TA           No\n",
       "4    RL      IR1       FR2       Gtl        Gd           Av"
      ]
     },
     "execution_count": 58,
     "metadata": {},
     "output_type": "execute_result"
    }
   ],
   "source": [
    "#To make the new dataframe with string columns\n",
    "\n",
    "df.select_dtypes(exclude=np.number).head(5)\n",
    "                #OR\n",
    "#df.select_dtypes(include=np.object).head(5)"
   ]
  },
  {
   "cell_type": "code",
   "execution_count": 60,
   "id": "10039dc7",
   "metadata": {},
   "outputs": [
    {
     "data": {
      "text/html": [
       "<div>\n",
       "<style scoped>\n",
       "    .dataframe tbody tr th:only-of-type {\n",
       "        vertical-align: middle;\n",
       "    }\n",
       "\n",
       "    .dataframe tbody tr th {\n",
       "        vertical-align: top;\n",
       "    }\n",
       "\n",
       "    .dataframe thead th {\n",
       "        text-align: right;\n",
       "    }\n",
       "</style>\n",
       "<table border=\"1\" class=\"dataframe\">\n",
       "  <thead>\n",
       "    <tr style=\"text-align: right;\">\n",
       "      <th></th>\n",
       "      <th>Subclass</th>\n",
       "      <th>Zones</th>\n",
       "      <th>LotArea</th>\n",
       "      <th>LotShape</th>\n",
       "      <th>LotConfig</th>\n",
       "      <th>LandSlope</th>\n",
       "      <th>OverallQual</th>\n",
       "      <th>YearBuilt</th>\n",
       "      <th>MasVnrArea</th>\n",
       "      <th>BsmtExposure</th>\n",
       "      <th>Year_Diff</th>\n",
       "    </tr>\n",
       "  </thead>\n",
       "  <tbody>\n",
       "    <tr>\n",
       "      <th>0</th>\n",
       "      <td>60</td>\n",
       "      <td>RL</td>\n",
       "      <td>8450</td>\n",
       "      <td>Reg</td>\n",
       "      <td>Inside</td>\n",
       "      <td>Gtl</td>\n",
       "      <td>7</td>\n",
       "      <td>2003</td>\n",
       "      <td>196</td>\n",
       "      <td>No</td>\n",
       "      <td>20</td>\n",
       "    </tr>\n",
       "    <tr>\n",
       "      <th>1</th>\n",
       "      <td>20</td>\n",
       "      <td>RL</td>\n",
       "      <td>9600</td>\n",
       "      <td>Reg</td>\n",
       "      <td>FR2</td>\n",
       "      <td>Gtl</td>\n",
       "      <td>6</td>\n",
       "      <td>1976</td>\n",
       "      <td>-2</td>\n",
       "      <td>Gd</td>\n",
       "      <td>47</td>\n",
       "    </tr>\n",
       "    <tr>\n",
       "      <th>2</th>\n",
       "      <td>60</td>\n",
       "      <td>RL</td>\n",
       "      <td>11250</td>\n",
       "      <td>IR1</td>\n",
       "      <td>Inside</td>\n",
       "      <td>Gtl</td>\n",
       "      <td>7</td>\n",
       "      <td>2001</td>\n",
       "      <td>162</td>\n",
       "      <td>Mn</td>\n",
       "      <td>22</td>\n",
       "    </tr>\n",
       "    <tr>\n",
       "      <th>3</th>\n",
       "      <td>70</td>\n",
       "      <td>RL</td>\n",
       "      <td>9550</td>\n",
       "      <td>IR1</td>\n",
       "      <td>Corner</td>\n",
       "      <td>Gtl</td>\n",
       "      <td>7</td>\n",
       "      <td>1915</td>\n",
       "      <td>-2</td>\n",
       "      <td>No</td>\n",
       "      <td>108</td>\n",
       "    </tr>\n",
       "    <tr>\n",
       "      <th>4</th>\n",
       "      <td>60</td>\n",
       "      <td>RL</td>\n",
       "      <td>14260</td>\n",
       "      <td>IR1</td>\n",
       "      <td>FR2</td>\n",
       "      <td>Gtl</td>\n",
       "      <td>8</td>\n",
       "      <td>2000</td>\n",
       "      <td>350</td>\n",
       "      <td>Av</td>\n",
       "      <td>23</td>\n",
       "    </tr>\n",
       "  </tbody>\n",
       "</table>\n",
       "</div>"
      ],
      "text/plain": [
       "   Subclass Zones  LotArea LotShape LotConfig LandSlope  OverallQual  \\\n",
       "0        60    RL     8450      Reg    Inside       Gtl            7   \n",
       "1        20    RL     9600      Reg       FR2       Gtl            6   \n",
       "2        60    RL    11250      IR1    Inside       Gtl            7   \n",
       "3        70    RL     9550      IR1    Corner       Gtl            7   \n",
       "4        60    RL    14260      IR1       FR2       Gtl            8   \n",
       "\n",
       "   YearBuilt  MasVnrArea BsmtExposure  Year_Diff  \n",
       "0       2003         196           No         20  \n",
       "1       1976          -2           Gd         47  \n",
       "2       2001         162           Mn         22  \n",
       "3       1915          -2           No        108  \n",
       "4       2000         350           Av         23  "
      ]
     },
     "execution_count": 60,
     "metadata": {},
     "output_type": "execute_result"
    }
   ],
   "source": [
    "#Drop the column \n",
    "df.drop('ExterQual',axis=1,inplace=False).head()"
   ]
  },
  {
   "cell_type": "code",
   "execution_count": 62,
   "id": "b4f031fe",
   "metadata": {},
   "outputs": [
    {
     "data": {
      "text/plain": [
       "LotShape\n",
       "IR1    11492.307692\n",
       "IR2    12968.000000\n",
       "Reg     9085.187500\n",
       "Name: LotArea, dtype: float64"
      ]
     },
     "execution_count": 62,
     "metadata": {},
     "output_type": "execute_result"
    }
   ],
   "source": [
    "#Group data in LotShape and find average in LotArea\n",
    "\n",
    "df.groupby('LotShape')['LotArea'].mean()"
   ]
  },
  {
   "cell_type": "code",
   "execution_count": 64,
   "id": "c24fce0c",
   "metadata": {},
   "outputs": [
    {
     "data": {
      "text/plain": [
       "array(['Reg', 'IR1', 'IR2'], dtype=object)"
      ]
     },
     "execution_count": 64,
     "metadata": {},
     "output_type": "execute_result"
    }
   ],
   "source": [
    "df['LotShape'].unique()"
   ]
  },
  {
   "cell_type": "markdown",
   "id": "2b71d980",
   "metadata": {},
   "source": [
    "                                        '''Titanic Dataset Case Study'''"
   ]
  },
  {
   "cell_type": "code",
   "execution_count": 68,
   "id": "62253def",
   "metadata": {},
   "outputs": [],
   "source": [
    "#read file\n",
    "dt = pd.read_csv(r'D:\\Class\\PYTHON\\Python\\2. Python class\\21. Case study\\datasetTitanic.csv')"
   ]
  },
  {
   "cell_type": "code",
   "execution_count": 69,
   "id": "7e61991c",
   "metadata": {},
   "outputs": [
    {
     "data": {
      "text/html": [
       "<div>\n",
       "<style scoped>\n",
       "    .dataframe tbody tr th:only-of-type {\n",
       "        vertical-align: middle;\n",
       "    }\n",
       "\n",
       "    .dataframe tbody tr th {\n",
       "        vertical-align: top;\n",
       "    }\n",
       "\n",
       "    .dataframe thead th {\n",
       "        text-align: right;\n",
       "    }\n",
       "</style>\n",
       "<table border=\"1\" class=\"dataframe\">\n",
       "  <thead>\n",
       "    <tr style=\"text-align: right;\">\n",
       "      <th></th>\n",
       "      <th>Survived</th>\n",
       "      <th>Pclass</th>\n",
       "      <th>Name</th>\n",
       "      <th>Sex</th>\n",
       "      <th>Age</th>\n",
       "      <th>Siblings/Spouses Aboard</th>\n",
       "      <th>Parents/Children Aboard</th>\n",
       "      <th>Fare</th>\n",
       "    </tr>\n",
       "  </thead>\n",
       "  <tbody>\n",
       "    <tr>\n",
       "      <th>0</th>\n",
       "      <td>0</td>\n",
       "      <td>3</td>\n",
       "      <td>Mr. Owen Harris Braund</td>\n",
       "      <td>male</td>\n",
       "      <td>22.0</td>\n",
       "      <td>1</td>\n",
       "      <td>0</td>\n",
       "      <td>7.2500</td>\n",
       "    </tr>\n",
       "    <tr>\n",
       "      <th>1</th>\n",
       "      <td>1</td>\n",
       "      <td>1</td>\n",
       "      <td>Mrs. John Bradley (Florence Briggs Thayer) Cum...</td>\n",
       "      <td>female</td>\n",
       "      <td>38.0</td>\n",
       "      <td>1</td>\n",
       "      <td>0</td>\n",
       "      <td>71.2833</td>\n",
       "    </tr>\n",
       "    <tr>\n",
       "      <th>2</th>\n",
       "      <td>1</td>\n",
       "      <td>3</td>\n",
       "      <td>Miss. Laina Heikkinen</td>\n",
       "      <td>female</td>\n",
       "      <td>26.0</td>\n",
       "      <td>0</td>\n",
       "      <td>0</td>\n",
       "      <td>7.9250</td>\n",
       "    </tr>\n",
       "    <tr>\n",
       "      <th>3</th>\n",
       "      <td>1</td>\n",
       "      <td>1</td>\n",
       "      <td>Mrs. Jacques Heath (Lily May Peel) Futrelle</td>\n",
       "      <td>female</td>\n",
       "      <td>35.0</td>\n",
       "      <td>1</td>\n",
       "      <td>0</td>\n",
       "      <td>53.1000</td>\n",
       "    </tr>\n",
       "    <tr>\n",
       "      <th>4</th>\n",
       "      <td>0</td>\n",
       "      <td>3</td>\n",
       "      <td>Mr. William Henry Allen</td>\n",
       "      <td>male</td>\n",
       "      <td>35.0</td>\n",
       "      <td>0</td>\n",
       "      <td>0</td>\n",
       "      <td>8.0500</td>\n",
       "    </tr>\n",
       "  </tbody>\n",
       "</table>\n",
       "</div>"
      ],
      "text/plain": [
       "   Survived  Pclass                                               Name  \\\n",
       "0         0       3                             Mr. Owen Harris Braund   \n",
       "1         1       1  Mrs. John Bradley (Florence Briggs Thayer) Cum...   \n",
       "2         1       3                              Miss. Laina Heikkinen   \n",
       "3         1       1        Mrs. Jacques Heath (Lily May Peel) Futrelle   \n",
       "4         0       3                            Mr. William Henry Allen   \n",
       "\n",
       "      Sex   Age  Siblings/Spouses Aboard  Parents/Children Aboard     Fare  \n",
       "0    male  22.0                        1                        0   7.2500  \n",
       "1  female  38.0                        1                        0  71.2833  \n",
       "2  female  26.0                        0                        0   7.9250  \n",
       "3  female  35.0                        1                        0  53.1000  \n",
       "4    male  35.0                        0                        0   8.0500  "
      ]
     },
     "execution_count": 69,
     "metadata": {},
     "output_type": "execute_result"
    }
   ],
   "source": [
    "dt.head()"
   ]
  },
  {
   "cell_type": "code",
   "execution_count": 75,
   "id": "8453c2e4",
   "metadata": {},
   "outputs": [
    {
     "data": {
      "text/plain": [
       "Sex\n",
       "female    233\n",
       "male      109\n",
       "Name: Survived, dtype: int64"
      ]
     },
     "execution_count": 75,
     "metadata": {},
     "output_type": "execute_result"
    }
   ],
   "source": [
    "#Find amount of alive based on sex\n",
    "dt.groupby('Sex')['Survived'].sum()"
   ]
  },
  {
   "cell_type": "code",
   "execution_count": 76,
   "id": "3a5082bc",
   "metadata": {},
   "outputs": [
    {
     "data": {
      "text/plain": [
       "Sex\n",
       "female    26.27\n",
       "male      12.29\n",
       "Name: Survived, dtype: float64"
      ]
     },
     "execution_count": 76,
     "metadata": {},
     "output_type": "execute_result"
    }
   ],
   "source": [
    "#Find the alive percentage based on sex\n",
    "round(dt.groupby('Sex')['Survived'].sum()/len(dt)*100,2)"
   ]
  },
  {
   "cell_type": "code",
   "execution_count": 81,
   "id": "367e6bdb",
   "metadata": {},
   "outputs": [
    {
     "data": {
      "text/plain": [
       "Sex\n",
       "female    314\n",
       "male      573\n",
       "Name: Sex, dtype: int64"
      ]
     },
     "execution_count": 81,
     "metadata": {},
     "output_type": "execute_result"
    }
   ],
   "source": [
    "dt.groupby('Sex')['Sex'].count()"
   ]
  },
  {
   "cell_type": "code",
   "execution_count": 91,
   "id": "1ee31ba3",
   "metadata": {},
   "outputs": [
    {
     "name": "stderr",
     "output_type": "stream",
     "text": [
      "E:\\Anaconda\\lib\\site-packages\\seaborn\\_decorators.py:36: FutureWarning: Pass the following variable as a keyword arg: x. From version 0.12, the only valid positional argument will be `data`, and passing other arguments without an explicit keyword will result in an error or misinterpretation.\n",
      "  warnings.warn(\n",
      "C:\\Users\\admin\\AppData\\Local\\Temp\\ipykernel_15000\\2664159977.py:4: UserWarning: You have mixed positional and keyword arguments, some input may be discarded.\n",
      "  plt.legend(dt,labels=['Death','Alive'])\n"
     ]
    },
    {
     "data": {
      "image/png": "[encoded data removed]",
      "text/plain": [
       "<Figure size 432x288 with 1 Axes>"
      ]
     },
     "metadata": {
      "needs_background": "light"
     },
     "output_type": "display_data"
    }
   ],
   "source": [
    "#Plot the Death & Alive Rate  \n",
    "sns.countplot(dt['Survived'])\n",
    "plt.title('Death & Alive Rate')\n",
    "plt.legend(dt,labels=['Death','Alive'])\n",
    "plt.show()"
   ]
  },
  {
   "cell_type": "code",
   "execution_count": 96,
   "id": "2d607cae",
   "metadata": {},
   "outputs": [
    {
     "name": "stderr",
     "output_type": "stream",
     "text": [
      "E:\\Anaconda\\lib\\site-packages\\seaborn\\_decorators.py:36: FutureWarning: Pass the following variable as a keyword arg: x. From version 0.12, the only valid positional argument will be `data`, and passing other arguments without an explicit keyword will result in an error or misinterpretation.\n",
      "  warnings.warn(\n"
     ]
    },
    {
     "data": {
      "text/plain": [
       "<function matplotlib.pyplot.show(close=None, block=None)>"
      ]
     },
     "execution_count": 96,
     "metadata": {},
     "output_type": "execute_result"
    },
    {
     "data": {
      "image/png": "[encoded data removed]",
      "text/plain": [
       "<Figure size 432x288 with 1 Axes>"
      ]
     },
     "metadata": {
      "needs_background": "light"
     },
     "output_type": "display_data"
    }
   ],
   "source": [
    "#plot the pclass distribution\n",
    "sns.countplot(dt['Pclass'])\n",
    "plt.title('Pclass Distribution')\n",
    "plt.show"
   ]
  },
  {
   "cell_type": "code",
   "execution_count": 100,
   "id": "5cead0f7",
   "metadata": {},
   "outputs": [
    {
     "data": {
      "text/html": [
       "<div>\n",
       "<style scoped>\n",
       "    .dataframe tbody tr th:only-of-type {\n",
       "        vertical-align: middle;\n",
       "    }\n",
       "\n",
       "    .dataframe tbody tr th {\n",
       "        vertical-align: top;\n",
       "    }\n",
       "\n",
       "    .dataframe thead th {\n",
       "        text-align: right;\n",
       "    }\n",
       "</style>\n",
       "<table border=\"1\" class=\"dataframe\">\n",
       "  <thead>\n",
       "    <tr style=\"text-align: right;\">\n",
       "      <th></th>\n",
       "      <th>Survived</th>\n",
       "      <th>Pclass</th>\n",
       "      <th>Name</th>\n",
       "      <th>Sex</th>\n",
       "      <th>Age</th>\n",
       "      <th>Siblings/Spouses Aboard</th>\n",
       "      <th>Parents/Children Aboard</th>\n",
       "      <th>Fare</th>\n",
       "      <th>Name_len</th>\n",
       "    </tr>\n",
       "  </thead>\n",
       "  <tbody>\n",
       "    <tr>\n",
       "      <th>0</th>\n",
       "      <td>0</td>\n",
       "      <td>3</td>\n",
       "      <td>Mr. Owen Harris Braund</td>\n",
       "      <td>male</td>\n",
       "      <td>22.0</td>\n",
       "      <td>1</td>\n",
       "      <td>0</td>\n",
       "      <td>7.2500</td>\n",
       "      <td>21</td>\n",
       "    </tr>\n",
       "    <tr>\n",
       "      <th>1</th>\n",
       "      <td>1</td>\n",
       "      <td>1</td>\n",
       "      <td>Mrs. John Bradley (Florence Briggs Thayer) Cum...</td>\n",
       "      <td>female</td>\n",
       "      <td>38.0</td>\n",
       "      <td>1</td>\n",
       "      <td>0</td>\n",
       "      <td>71.2833</td>\n",
       "      <td>49</td>\n",
       "    </tr>\n",
       "    <tr>\n",
       "      <th>2</th>\n",
       "      <td>1</td>\n",
       "      <td>3</td>\n",
       "      <td>Miss. Laina Heikkinen</td>\n",
       "      <td>female</td>\n",
       "      <td>26.0</td>\n",
       "      <td>0</td>\n",
       "      <td>0</td>\n",
       "      <td>7.9250</td>\n",
       "      <td>20</td>\n",
       "    </tr>\n",
       "    <tr>\n",
       "      <th>3</th>\n",
       "      <td>1</td>\n",
       "      <td>1</td>\n",
       "      <td>Mrs. Jacques Heath (Lily May Peel) Futrelle</td>\n",
       "      <td>female</td>\n",
       "      <td>35.0</td>\n",
       "      <td>1</td>\n",
       "      <td>0</td>\n",
       "      <td>53.1000</td>\n",
       "      <td>42</td>\n",
       "    </tr>\n",
       "    <tr>\n",
       "      <th>4</th>\n",
       "      <td>0</td>\n",
       "      <td>3</td>\n",
       "      <td>Mr. William Henry Allen</td>\n",
       "      <td>male</td>\n",
       "      <td>35.0</td>\n",
       "      <td>0</td>\n",
       "      <td>0</td>\n",
       "      <td>8.0500</td>\n",
       "      <td>22</td>\n",
       "    </tr>\n",
       "  </tbody>\n",
       "</table>\n",
       "</div>"
      ],
      "text/plain": [
       "   Survived  Pclass                                               Name  \\\n",
       "0         0       3                             Mr. Owen Harris Braund   \n",
       "1         1       1  Mrs. John Bradley (Florence Briggs Thayer) Cum...   \n",
       "2         1       3                              Miss. Laina Heikkinen   \n",
       "3         1       1        Mrs. Jacques Heath (Lily May Peel) Futrelle   \n",
       "4         0       3                            Mr. William Henry Allen   \n",
       "\n",
       "      Sex   Age  Siblings/Spouses Aboard  Parents/Children Aboard     Fare  \\\n",
       "0    male  22.0                        1                        0   7.2500   \n",
       "1  female  38.0                        1                        0  71.2833   \n",
       "2  female  26.0                        0                        0   7.9250   \n",
       "3  female  35.0                        1                        0  53.1000   \n",
       "4    male  35.0                        0                        0   8.0500   \n",
       "\n",
       "   Name_len  \n",
       "0        21  \n",
       "1        49  \n",
       "2        20  \n",
       "3        42  \n",
       "4        22  "
      ]
     },
     "execution_count": 100,
     "metadata": {},
     "output_type": "execute_result"
    }
   ],
   "source": [
    "#create a new column which hold string length\n",
    "\n",
    "dt['Name_len']=dt['Name'].apply(lambda x:len(x)-len(' '))\n",
    "dt.head()"
   ]
  },
  {
   "cell_type": "code",
   "execution_count": 104,
   "id": "6f0b23d5",
   "metadata": {},
   "outputs": [
    {
     "name": "stderr",
     "output_type": "stream",
     "text": [
      "C:\\Users\\admin\\AppData\\Local\\Temp\\ipykernel_15000\\2108284150.py:2: FutureWarning: The frame.append method is deprecated and will be removed from pandas in a future version. Use pandas.concat instead.\n",
      "  dt1=dt.append({'Survived':1,'Pclass':2,'Name':'Naresh'},ignore_index=True)\n"
     ]
    },
    {
     "data": {
      "text/html": [
       "<div>\n",
       "<style scoped>\n",
       "    .dataframe tbody tr th:only-of-type {\n",
       "        vertical-align: middle;\n",
       "    }\n",
       "\n",
       "    .dataframe tbody tr th {\n",
       "        vertical-align: top;\n",
       "    }\n",
       "\n",
       "    .dataframe thead th {\n",
       "        text-align: right;\n",
       "    }\n",
       "</style>\n",
       "<table border=\"1\" class=\"dataframe\">\n",
       "  <thead>\n",
       "    <tr style=\"text-align: right;\">\n",
       "      <th></th>\n",
       "      <th>Survived</th>\n",
       "      <th>Pclass</th>\n",
       "      <th>Name</th>\n",
       "      <th>Sex</th>\n",
       "      <th>Age</th>\n",
       "      <th>Siblings/Spouses Aboard</th>\n",
       "      <th>Parents/Children Aboard</th>\n",
       "      <th>Fare</th>\n",
       "      <th>Name_len</th>\n",
       "    </tr>\n",
       "  </thead>\n",
       "  <tbody>\n",
       "    <tr>\n",
       "      <th>883</th>\n",
       "      <td>1</td>\n",
       "      <td>1</td>\n",
       "      <td>Miss. Margaret Edith Graham</td>\n",
       "      <td>female</td>\n",
       "      <td>19.0</td>\n",
       "      <td>0.0</td>\n",
       "      <td>0.0</td>\n",
       "      <td>30.00</td>\n",
       "      <td>26.0</td>\n",
       "    </tr>\n",
       "    <tr>\n",
       "      <th>884</th>\n",
       "      <td>0</td>\n",
       "      <td>3</td>\n",
       "      <td>Miss. Catherine Helen Johnston</td>\n",
       "      <td>female</td>\n",
       "      <td>7.0</td>\n",
       "      <td>1.0</td>\n",
       "      <td>2.0</td>\n",
       "      <td>23.45</td>\n",
       "      <td>29.0</td>\n",
       "    </tr>\n",
       "    <tr>\n",
       "      <th>885</th>\n",
       "      <td>1</td>\n",
       "      <td>1</td>\n",
       "      <td>Mr. Karl Howell Behr</td>\n",
       "      <td>male</td>\n",
       "      <td>26.0</td>\n",
       "      <td>0.0</td>\n",
       "      <td>0.0</td>\n",
       "      <td>30.00</td>\n",
       "      <td>19.0</td>\n",
       "    </tr>\n",
       "    <tr>\n",
       "      <th>886</th>\n",
       "      <td>0</td>\n",
       "      <td>3</td>\n",
       "      <td>Mr. Patrick Dooley</td>\n",
       "      <td>male</td>\n",
       "      <td>32.0</td>\n",
       "      <td>0.0</td>\n",
       "      <td>0.0</td>\n",
       "      <td>7.75</td>\n",
       "      <td>17.0</td>\n",
       "    </tr>\n",
       "    <tr>\n",
       "      <th>887</th>\n",
       "      <td>1</td>\n",
       "      <td>2</td>\n",
       "      <td>Naresh</td>\n",
       "      <td>NaN</td>\n",
       "      <td>NaN</td>\n",
       "      <td>NaN</td>\n",
       "      <td>NaN</td>\n",
       "      <td>NaN</td>\n",
       "      <td>NaN</td>\n",
       "    </tr>\n",
       "  </tbody>\n",
       "</table>\n",
       "</div>"
      ],
      "text/plain": [
       "     Survived  Pclass                            Name     Sex   Age  \\\n",
       "883         1       1     Miss. Margaret Edith Graham  female  19.0   \n",
       "884         0       3  Miss. Catherine Helen Johnston  female   7.0   \n",
       "885         1       1            Mr. Karl Howell Behr    male  26.0   \n",
       "886         0       3              Mr. Patrick Dooley    male  32.0   \n",
       "887         1       2                          Naresh     NaN   NaN   \n",
       "\n",
       "     Siblings/Spouses Aboard  Parents/Children Aboard   Fare  Name_len  \n",
       "883                      0.0                      0.0  30.00      26.0  \n",
       "884                      1.0                      2.0  23.45      29.0  \n",
       "885                      0.0                      0.0  30.00      19.0  \n",
       "886                      0.0                      0.0   7.75      17.0  \n",
       "887                      NaN                      NaN    NaN       NaN  "
      ]
     },
     "execution_count": 104,
     "metadata": {},
     "output_type": "execute_result"
    }
   ],
   "source": [
    "#To insert the new row in the existing dataframe\n",
    "dt1=dt.append({'Survived':1,'Pclass':2,'Name':'Naresh'},ignore_index=True)\n",
    "dt1.tail()"
   ]
  },
  {
   "cell_type": "code",
   "execution_count": 105,
   "id": "97fbf15b",
   "metadata": {},
   "outputs": [
    {
     "name": "stderr",
     "output_type": "stream",
     "text": [
      "E:\\Anaconda\\lib\\site-packages\\seaborn\\_decorators.py:36: FutureWarning: Pass the following variable as a keyword arg: x. From version 0.12, the only valid positional argument will be `data`, and passing other arguments without an explicit keyword will result in an error or misinterpretation.\n",
      "  warnings.warn(\n"
     ]
    },
    {
     "data": {
      "image/png": "[encoded data removed]",
      "text/plain": [
       "<Figure size 432x288 with 1 Axes>"
      ]
     },
     "metadata": {
      "needs_background": "light"
     },
     "output_type": "display_data"
    }
   ],
   "source": [
    "#plot distribution based on sex\n",
    "sns.countplot(dt['Sex'])\n",
    "plt.show()"
   ]
  },
  {
   "cell_type": "code",
   "execution_count": 107,
   "id": "89f5e7b8",
   "metadata": {},
   "outputs": [
    {
     "name": "stderr",
     "output_type": "stream",
     "text": [
      "E:\\Anaconda\\lib\\site-packages\\seaborn\\_decorators.py:36: FutureWarning: Pass the following variable as a keyword arg: x. From version 0.12, the only valid positional argument will be `data`, and passing other arguments without an explicit keyword will result in an error or misinterpretation.\n",
      "  warnings.warn(\n",
      "C:\\Users\\admin\\AppData\\Local\\Temp\\ipykernel_15000\\2674247945.py:6: UserWarning: You have mixed positional and keyword arguments, some input may be discarded.\n",
      "  plt.legend(dt,labels=['Death','Alive'])\n"
     ]
    },
    {
     "data": {
      "image/png": "[encoded data removed]",
      "text/plain": [
       "<Figure size 432x288 with 1 Axes>"
      ]
     },
     "metadata": {
      "needs_background": "light"
     },
     "output_type": "display_data"
    }
   ],
   "source": [
    "#plot distribution based on sex\n",
    "'''order, hue_order : lists of strings, optional\n",
    "    Order to plot the categorical levels in, otherwise the levels are\n",
    "    inferred from the data objects. '''\n",
    "sns.countplot(dt['Sex'],hue=dt['Survived'])\n",
    "plt.legend(dt,labels=['Death','Alive'])\n",
    "plt.show()"
   ]
  },
  {
   "cell_type": "code",
   "execution_count": 125,
   "id": "fcb2d92f",
   "metadata": {},
   "outputs": [
    {
     "name": "stdout",
     "output_type": "stream",
     "text": [
      "Male : 65.0 %\n",
      "Female : 35.0 %\n"
     ]
    }
   ],
   "source": [
    "#Finding the percentage of male and female\n",
    "'''To find number of male & Female'''\n",
    "#len(dt[dt['Sex']=='male'])\n",
    "#len(dt[dt['Sex']=='female'])\n",
    "\n",
    "print('Male : {} %'.format( round (len(dt[dt['Sex']=='male'])/len(dt)*100,0)))\n",
    "print('Female : {} %'.format( round (len(dt[dt['Sex']=='female'])/len(dt)*100,0)))"
   ]
  },
  {
   "cell_type": "code",
   "execution_count": 128,
   "id": "d0ae34ab",
   "metadata": {},
   "outputs": [
    {
     "name": "stderr",
     "output_type": "stream",
     "text": [
      "E:\\Anaconda\\lib\\site-packages\\seaborn\\_decorators.py:36: FutureWarning: Pass the following variable as a keyword arg: x. From version 0.12, the only valid positional argument will be `data`, and passing other arguments without an explicit keyword will result in an error or misinterpretation.\n",
      "  warnings.warn(\n"
     ]
    },
    {
     "data": {
      "image/png": "[encoded data removed]",
      "text/plain": [
       "<Figure size 432x288 with 1 Axes>"
      ]
     },
     "metadata": {
      "needs_background": "light"
     },
     "output_type": "display_data"
    }
   ],
   "source": [
    "#plot the Siblings/Spouses Aboard distribution\n",
    "sns.countplot(dt['Siblings/Spouses Aboard'])\n",
    "plt.show()"
   ]
  },
  {
   "cell_type": "code",
   "execution_count": 129,
   "id": "40b6f06d",
   "metadata": {},
   "outputs": [
    {
     "data": {
      "text/plain": [
       "Survived                   0\n",
       "Pclass                     0\n",
       "Name                       0\n",
       "Sex                        0\n",
       "Age                        0\n",
       "Siblings/Spouses Aboard    0\n",
       "Parents/Children Aboard    0\n",
       "Fare                       0\n",
       "Name_len                   0\n",
       "dtype: int64"
      ]
     },
     "execution_count": 129,
     "metadata": {},
     "output_type": "execute_result"
    }
   ],
   "source": [
    "#To displayb the missing values based on columns\n",
    "\n",
    "dt.isnull().sum()"
   ]
  },
  {
   "cell_type": "code",
   "execution_count": 151,
   "id": "39310cb1",
   "metadata": {},
   "outputs": [
    {
     "name": "stdout",
     "output_type": "stream",
     "text": [
      "ratio: 63.0 %\n"
     ]
    }
   ],
   "source": [
    "#ratio of survived and non-survived passenger\n",
    "print('ratio: {} %'.format( round( (dt[dt['Survived']==1].shape[0]/dt[dt['Survived']==0].shape[0])*100,0)))"
   ]
  },
  {
   "cell_type": "code",
   "execution_count": 152,
   "id": "af4cb13f",
   "metadata": {},
   "outputs": [
    {
     "name": "stdout",
     "output_type": "stream",
     "text": [
      "ratio: 38.56 %\n"
     ]
    }
   ],
   "source": [
    "#Alive percentage?\n",
    "print('ratio: {} %'.format( round( (dt[dt['Survived']==1].shape[0]/dt['Survived'].shape[0])*100,2)))"
   ]
  },
  {
   "cell_type": "code",
   "execution_count": null,
   "id": "21b42dbd",
   "metadata": {},
   "outputs": [],
   "source": []
  },
  {
   "cell_type": "code",
   "execution_count": null,
   "id": "699e4e23",
   "metadata": {},
   "outputs": [],
   "source": []
  },
  {
   "cell_type": "code",
   "execution_count": null,
   "id": "d5d877e4",
   "metadata": {},
   "outputs": [],
   "source": []
  }
 ],
 "metadata": {
  "kernelspec": {
   "display_name": "Python 3 (ipykernel)",
   "language": "python",
   "name": "python3"
  },
  "language_info": {
   "codemirror_mode": {
    "name": "ipython",
    "version": 3
   },
   "file_extension": ".py",
   "mimetype": "text/x-python",
   "name": "python",
   "nbconvert_exporter": "python",
   "pygments_lexer": "ipython3",
   "version": "3.9.12"
  }
 },
 "nbformat": 4,
 "nbformat_minor": 5
}
