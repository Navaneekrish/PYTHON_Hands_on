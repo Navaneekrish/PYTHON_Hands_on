{
 "cells": [
  {
   "cell_type": "code",
   "execution_count": 2,
   "id": "9ab2bf3a",
   "metadata": {},
   "outputs": [],
   "source": [
    "import pandas as pd"
   ]
  },
  {
   "cell_type": "code",
   "execution_count": 9,
   "id": "b52398f2",
   "metadata": {},
   "outputs": [
    {
     "name": "stdout",
     "output_type": "stream",
     "text": [
      "   Day  Visitors  Bounce_Rate\n",
      "0    1       100           25\n",
      "1    2       800           30\n",
      "2    3       600           14\n",
      "3    4       700           28\n",
      "4    5       300           16\n",
      "5    6       950           30\n",
      "   Day  Visitors  Bounce_Rate\n",
      "0    1       100           25\n",
      "1    2       800           30\n",
      "   Day  Visitors  Bounce_Rate\n",
      "4    5       300           16\n",
      "5    6       950           30\n"
     ]
    }
   ],
   "source": [
    "xyz_web = {'Day':[1,2,3,4,5,6],'Visitors':[100,800,600,700,300,950],'Bounce_Rate':[25,30,14,28,16,30]}\n",
    "df=pd.DataFrame(xyz_web)\n",
    "print(df)\n",
    "#Slicing\n",
    "print(df.head(2))\n",
    "print(df.tail(2))"
   ]
  },
  {
   "cell_type": "code",
   "execution_count": 11,
   "id": "5bddc43c",
   "metadata": {},
   "outputs": [
    {
     "name": "stdout",
     "output_type": "stream",
     "text": [
      "   Day  Visitors  Bounce_Rate\n",
      "0    1       105           20\n",
      "1    2       805           38\n",
      "2    3       608           15\n",
      "3    4       709           29\n",
      "4    5       301           10\n",
      "5    6       955           35\n",
      "   Day  Visitors_x  Bounce_Rate_x  Visitors_y  Bounce_Rate_y\n",
      "0    1         100             25         105             20\n",
      "1    2         800             30         805             38\n",
      "2    3         600             14         608             15\n",
      "3    4         700             28         709             29\n",
      "4    5         300             16         301             10\n",
      "5    6         950             30         955             35\n"
     ]
    }
   ],
   "source": [
    "abc_web = {'Day':[1,2,3,4,5,6],'Visitors':[105,805,608,709,301,955],'Bounce_Rate':[20,38,15,29,10,35]}\n",
    "df1=pd.DataFrame(abc_web)\n",
    "print(df1)\n",
    "\n",
    "#Merging\n",
    "merge = pd.merge(df,df1,on = 'Day')\n",
    "print(merge)"
   ]
  },
  {
   "cell_type": "code",
   "execution_count": 67,
   "id": "1f9af37c",
   "metadata": {},
   "outputs": [
    {
     "name": "stdout",
     "output_type": "stream",
     "text": [
      "   Index  sales  Discount\n",
      "0      1    100        25\n",
      "1      3    800        30\n",
      "2      4    600        14\n",
      "3      6    700        28\n",
      "   Index  price  Dis\n",
      "0      1    100   25\n",
      "1      3    800   30\n",
      "2      4    500   13\n",
      "3      5    700   28\n",
      "     Index  sales  Discount  price   Dis\n",
      "1.0      1  100.0      25.0  100.0  25.0\n",
      "3.0      3  800.0      30.0  800.0  30.0\n",
      "4.0      4  600.0      14.0  500.0  13.0\n",
      "NaN      5    NaN       NaN  700.0  28.0\n",
      "6.0      6  700.0      28.0    NaN   NaN\n"
     ]
    }
   ],
   "source": [
    "#Joining\n",
    "FFF_web = {'Index': [1,3,4,6],'sales':[100,800,600,700],'Discount':[25,30,14,28]}\n",
    "YYY_web = {'Index' :[1,3,4,5],'price':[100,800,500,700],'Dis':[25,30,13,28]}\n",
    "df2 = pd.DataFrame(FFF_web)\n",
    "df3 = pd.DataFrame(YYY_web)\n",
    "print(df2)\n",
    "print(df3)\n",
    "\n",
    "joined = df2.set_index('Index').join(df3.set_index('Index'),on='Index',how='outer',lsuffix='_A',rsuffix='_B',sort=True)\n",
    "print(joined)"
   ]
  },
  {
   "cell_type": "code",
   "execution_count": 77,
   "id": "2ec72e5d",
   "metadata": {},
   "outputs": [
    {
     "name": "stdout",
     "output_type": "stream",
     "text": [
      "       sales  Discount\n",
      "Index                 \n",
      "1        100        25\n",
      "3        800        30\n",
      "4        600        14\n",
      "6        700        28\n",
      "   Index  Price  Discount\n",
      "0      1    100        25\n",
      "1      3    800        30\n",
      "2      4    600        14\n",
      "3      6    700        28\n"
     ]
    }
   ],
   "source": [
    "#Changing the index and column Header\n",
    "U = {'Index': [1,3,4,6],'sales':[100,800,600,700],'Discount':[25,30,14,28]}\n",
    "df4=pd.DataFrame(U)\n",
    "print(df4.set_index('Index'))\n",
    "print(df4.rename(columns={\"sales\":\"Price\"}))"
   ]
  },
  {
   "cell_type": "code",
   "execution_count": 80,
   "id": "cd8855a8",
   "metadata": {},
   "outputs": [],
   "source": [
    "#Datamuging\n",
    "sales = pd.read_csv('D:\\\\Trillian\\\\Sales.csv',index_col=0)\n",
    "sales.to_html('edu.html')"
   ]
  },
  {
   "cell_type": "code",
   "execution_count": 35,
   "id": "3876c9ed",
   "metadata": {},
   "outputs": [
    {
     "name": "stdout",
     "output_type": "stream",
     "text": [
      "          Category Sub-Category    Profit\n",
      "0        Furniture    Bookcases   41.9136\n",
      "1        Furniture       Chairs  219.5820\n",
      "2  Office Supplies       Labels    6.8714\n",
      "3        Furniture       Tables -383.0310\n",
      "4  Office Supplies      Storage    2.5164\n",
      "5        Furniture  Furnishings   14.1694\n"
     ]
    }
   ],
   "source": [
    "sup_store = pd.read_excel('D:\\\\Class\\\\Data collection\\\\Sample - Superstore.xlsx')\n",
    "#df=sup_store.tail(10)\n",
    "sd = sup_store[sup_store.columns[14:21]].head(15)\n",
    "#print(sd.set_index('Category'))\n",
    "#dff = sd.loc[0:14,['Category','Sub-Category','Profit']]\n",
    "dff = sd.loc[0:5,['Category','Sub-Category','Profit']]\n",
    "#dff1 =  df.iloc[5:6,0:2]\n",
    "print(dff)"
   ]
  },
  {
   "cell_type": "code",
   "execution_count": 40,
   "id": "caa6b3e0",
   "metadata": {},
   "outputs": [],
   "source": [
    "#groupby\n",
    "dff2=dff.groupby(['Category','Sub-Category']).sum('Profit')"
   ]
  },
  {
   "cell_type": "code",
   "execution_count": 26,
   "id": "347bcb7e",
   "metadata": {},
   "outputs": [
    {
     "data": {
      "text/html": [
       "<div>\n",
       "<style scoped>\n",
       "    .dataframe tbody tr th:only-of-type {\n",
       "        vertical-align: middle;\n",
       "    }\n",
       "\n",
       "    .dataframe tbody tr th {\n",
       "        vertical-align: top;\n",
       "    }\n",
       "\n",
       "    .dataframe thead tr th {\n",
       "        text-align: left;\n",
       "    }\n",
       "\n",
       "    .dataframe thead tr:last-of-type th {\n",
       "        text-align: right;\n",
       "    }\n",
       "</style>\n",
       "<table border=\"1\" class=\"dataframe\">\n",
       "  <thead>\n",
       "    <tr>\n",
       "      <th></th>\n",
       "      <th colspan=\"11\" halign=\"left\">Profit</th>\n",
       "    </tr>\n",
       "    <tr>\n",
       "      <th>Sub-Category</th>\n",
       "      <th>Appliances</th>\n",
       "      <th>Art</th>\n",
       "      <th>Binders</th>\n",
       "      <th>Bookcases</th>\n",
       "      <th>Chairs</th>\n",
       "      <th>Furnishings</th>\n",
       "      <th>Labels</th>\n",
       "      <th>Paper</th>\n",
       "      <th>Phones</th>\n",
       "      <th>Storage</th>\n",
       "      <th>Tables</th>\n",
       "    </tr>\n",
       "    <tr>\n",
       "      <th>Category</th>\n",
       "      <th></th>\n",
       "      <th></th>\n",
       "      <th></th>\n",
       "      <th></th>\n",
       "      <th></th>\n",
       "      <th></th>\n",
       "      <th></th>\n",
       "      <th></th>\n",
       "      <th></th>\n",
       "      <th></th>\n",
       "      <th></th>\n",
       "    </tr>\n",
       "  </thead>\n",
       "  <tbody>\n",
       "    <tr>\n",
       "      <th>Furniture</th>\n",
       "      <td>NaN</td>\n",
       "      <td>NaN</td>\n",
       "      <td>NaN</td>\n",
       "      <td>41.9136</td>\n",
       "      <td>219.582</td>\n",
       "      <td>14.1694</td>\n",
       "      <td>NaN</td>\n",
       "      <td>NaN</td>\n",
       "      <td>NaN</td>\n",
       "      <td>NaN</td>\n",
       "      <td>-297.7218</td>\n",
       "    </tr>\n",
       "    <tr>\n",
       "      <th>Office Supplies</th>\n",
       "      <td>-89.388</td>\n",
       "      <td>1.9656</td>\n",
       "      <td>138.3747</td>\n",
       "      <td>NaN</td>\n",
       "      <td>NaN</td>\n",
       "      <td>NaN</td>\n",
       "      <td>6.8714</td>\n",
       "      <td>5.4432</td>\n",
       "      <td>NaN</td>\n",
       "      <td>2.5164</td>\n",
       "      <td>NaN</td>\n",
       "    </tr>\n",
       "    <tr>\n",
       "      <th>Technology</th>\n",
       "      <td>NaN</td>\n",
       "      <td>NaN</td>\n",
       "      <td>NaN</td>\n",
       "      <td>NaN</td>\n",
       "      <td>NaN</td>\n",
       "      <td>NaN</td>\n",
       "      <td>NaN</td>\n",
       "      <td>NaN</td>\n",
       "      <td>159.072</td>\n",
       "      <td>NaN</td>\n",
       "      <td>NaN</td>\n",
       "    </tr>\n",
       "  </tbody>\n",
       "</table>\n",
       "</div>"
      ],
      "text/plain": [
       "                    Profit                                                   \\\n",
       "Sub-Category    Appliances     Art   Binders Bookcases   Chairs Furnishings   \n",
       "Category                                                                      \n",
       "Furniture              NaN     NaN       NaN   41.9136  219.582     14.1694   \n",
       "Office Supplies    -89.388  1.9656  138.3747       NaN      NaN         NaN   \n",
       "Technology             NaN     NaN       NaN       NaN      NaN         NaN   \n",
       "\n",
       "                                                            \n",
       "Sub-Category     Labels   Paper   Phones Storage    Tables  \n",
       "Category                                                    \n",
       "Furniture           NaN     NaN      NaN     NaN -297.7218  \n",
       "Office Supplies  6.8714  5.4432      NaN  2.5164       NaN  \n",
       "Technology          NaN     NaN  159.072     NaN       NaN  "
      ]
     },
     "execution_count": 26,
     "metadata": {},
     "output_type": "execute_result"
    }
   ],
   "source": [
    "ddf2.stack()\n",
    "dff2.unstack()"
   ]
  },
  {
   "cell_type": "code",
   "execution_count": 27,
   "id": "5c049750",
   "metadata": {},
   "outputs": [
    {
     "data": {
      "text/html": [
       "<div>\n",
       "<style scoped>\n",
       "    .dataframe tbody tr th:only-of-type {\n",
       "        vertical-align: middle;\n",
       "    }\n",
       "\n",
       "    .dataframe tbody tr th {\n",
       "        vertical-align: top;\n",
       "    }\n",
       "\n",
       "    .dataframe thead tr th {\n",
       "        text-align: left;\n",
       "    }\n",
       "</style>\n",
       "<table border=\"1\" class=\"dataframe\">\n",
       "  <thead>\n",
       "    <tr>\n",
       "      <th>Category</th>\n",
       "      <th colspan=\"4\" halign=\"left\">Furniture</th>\n",
       "      <th colspan=\"6\" halign=\"left\">Office Supplies</th>\n",
       "      <th>Technology</th>\n",
       "    </tr>\n",
       "    <tr>\n",
       "      <th>Sub-Category</th>\n",
       "      <th>Bookcases</th>\n",
       "      <th>Chairs</th>\n",
       "      <th>Furnishings</th>\n",
       "      <th>Tables</th>\n",
       "      <th>Appliances</th>\n",
       "      <th>Art</th>\n",
       "      <th>Binders</th>\n",
       "      <th>Labels</th>\n",
       "      <th>Paper</th>\n",
       "      <th>Storage</th>\n",
       "      <th>Phones</th>\n",
       "    </tr>\n",
       "  </thead>\n",
       "  <tbody>\n",
       "    <tr>\n",
       "      <th>Profit</th>\n",
       "      <td>41.9136</td>\n",
       "      <td>219.582</td>\n",
       "      <td>14.1694</td>\n",
       "      <td>-148.8609</td>\n",
       "      <td>-44.694</td>\n",
       "      <td>1.9656</td>\n",
       "      <td>69.18735</td>\n",
       "      <td>6.8714</td>\n",
       "      <td>5.4432</td>\n",
       "      <td>2.5164</td>\n",
       "      <td>79.536</td>\n",
       "    </tr>\n",
       "  </tbody>\n",
       "</table>\n",
       "</div>"
      ],
      "text/plain": [
       "Category     Furniture                                Office Supplies          \\\n",
       "Sub-Category Bookcases   Chairs Furnishings    Tables      Appliances     Art   \n",
       "Profit         41.9136  219.582     14.1694 -148.8609         -44.694  1.9656   \n",
       "\n",
       "Category                                       Technology  \n",
       "Sub-Category   Binders  Labels   Paper Storage     Phones  \n",
       "Profit        69.18735  6.8714  5.4432  2.5164     79.536  "
      ]
     },
     "execution_count": 27,
     "metadata": {},
     "output_type": "execute_result"
    }
   ],
   "source": [
    "#pivot_table\n",
    "pd.pivot_table(dff,values='Profit',columns=['Category','Sub-Category'] )"
   ]
  },
  {
   "cell_type": "code",
   "execution_count": 37,
   "id": "32c9d462",
   "metadata": {},
   "outputs": [
    {
     "data": {
      "text/plain": [
       "<AxesSubplot:xlabel='Sub-Category'>"
      ]
     },
     "execution_count": 37,
     "metadata": {},
     "output_type": "execute_result"
    },
    {
     "data": {
      "image/png": "[encoded data removed]",
      "text/plain": [
       "<Figure size 432x288 with 1 Axes>"
      ]
     },
     "metadata": {
      "needs_background": "light"
     },
     "output_type": "display_data"
    }
   ],
   "source": [
    "import matplotlib.pyplot as plt\n",
    "dff.set_index('Sub-Category').plot()"
   ]
  },
  {
   "cell_type": "code",
   "execution_count": 3,
   "id": "e40ba4c1",
   "metadata": {},
   "outputs": [],
   "source": [
    "#gg=pd.read_excel('D:\\\\Class\\\\navanee krish\\\\Download\\\\SuperStoreUS-2015.xlsx')\n",
    "gg=pd.read_excel(r'D:\\Class\\navanee krish\\Download\\SuperStoreUS-2015.xlsx',sheet_name='Orders')"
   ]
  },
  {
   "cell_type": "code",
   "execution_count": 57,
   "id": "0975f52f",
   "metadata": {},
   "outputs": [
    {
     "data": {
      "text/html": [
       "<div>\n",
       "<style scoped>\n",
       "    .dataframe tbody tr th:only-of-type {\n",
       "        vertical-align: middle;\n",
       "    }\n",
       "\n",
       "    .dataframe tbody tr th {\n",
       "        vertical-align: top;\n",
       "    }\n",
       "\n",
       "    .dataframe thead th {\n",
       "        text-align: right;\n",
       "    }\n",
       "</style>\n",
       "<table border=\"1\" class=\"dataframe\">\n",
       "  <thead>\n",
       "    <tr style=\"text-align: right;\">\n",
       "      <th></th>\n",
       "      <th>Row ID</th>\n",
       "      <th>Order Priority</th>\n",
       "      <th>Discount</th>\n",
       "      <th>Unit Price</th>\n",
       "      <th>Shipping Cost</th>\n",
       "      <th>Customer ID</th>\n",
       "      <th>Customer Name</th>\n",
       "      <th>Ship Mode</th>\n",
       "      <th>Customer Segment</th>\n",
       "      <th>Product Category</th>\n",
       "    </tr>\n",
       "  </thead>\n",
       "  <tbody>\n",
       "    <tr>\n",
       "      <th>0</th>\n",
       "      <td>20847</td>\n",
       "      <td>High</td>\n",
       "      <td>0.01</td>\n",
       "      <td>2.84</td>\n",
       "      <td>0.93</td>\n",
       "      <td>3</td>\n",
       "      <td>Bonnie Potter</td>\n",
       "      <td>Express Air</td>\n",
       "      <td>Corporate</td>\n",
       "      <td>Office Supplies</td>\n",
       "    </tr>\n",
       "    <tr>\n",
       "      <th>1</th>\n",
       "      <td>20228</td>\n",
       "      <td>Not Specified</td>\n",
       "      <td>0.02</td>\n",
       "      <td>500.98</td>\n",
       "      <td>26.00</td>\n",
       "      <td>5</td>\n",
       "      <td>Ronnie Proctor</td>\n",
       "      <td>Delivery Truck</td>\n",
       "      <td>Home Office</td>\n",
       "      <td>Furniture</td>\n",
       "    </tr>\n",
       "    <tr>\n",
       "      <th>2</th>\n",
       "      <td>21776</td>\n",
       "      <td>Critical</td>\n",
       "      <td>0.06</td>\n",
       "      <td>9.48</td>\n",
       "      <td>7.29</td>\n",
       "      <td>11</td>\n",
       "      <td>Marcus Dunlap</td>\n",
       "      <td>Regular Air</td>\n",
       "      <td>Home Office</td>\n",
       "      <td>Furniture</td>\n",
       "    </tr>\n",
       "    <tr>\n",
       "      <th>3</th>\n",
       "      <td>24844</td>\n",
       "      <td>Medium</td>\n",
       "      <td>0.09</td>\n",
       "      <td>78.69</td>\n",
       "      <td>19.99</td>\n",
       "      <td>14</td>\n",
       "      <td>Gwendolyn F Tyson</td>\n",
       "      <td>Regular Air</td>\n",
       "      <td>Small Business</td>\n",
       "      <td>Furniture</td>\n",
       "    </tr>\n",
       "    <tr>\n",
       "      <th>4</th>\n",
       "      <td>24846</td>\n",
       "      <td>Medium</td>\n",
       "      <td>0.08</td>\n",
       "      <td>3.28</td>\n",
       "      <td>2.31</td>\n",
       "      <td>14</td>\n",
       "      <td>Gwendolyn F Tyson</td>\n",
       "      <td>Regular Air</td>\n",
       "      <td>Small Business</td>\n",
       "      <td>Office Supplies</td>\n",
       "    </tr>\n",
       "    <tr>\n",
       "      <th>5</th>\n",
       "      <td>24847</td>\n",
       "      <td>Medium</td>\n",
       "      <td>0.05</td>\n",
       "      <td>3.28</td>\n",
       "      <td>4.20</td>\n",
       "      <td>14</td>\n",
       "      <td>Gwendolyn F Tyson</td>\n",
       "      <td>Regular Air</td>\n",
       "      <td>Small Business</td>\n",
       "      <td>Office Supplies</td>\n",
       "    </tr>\n",
       "    <tr>\n",
       "      <th>6</th>\n",
       "      <td>24848</td>\n",
       "      <td>Medium</td>\n",
       "      <td>0.05</td>\n",
       "      <td>3.58</td>\n",
       "      <td>1.63</td>\n",
       "      <td>14</td>\n",
       "      <td>Gwendolyn F Tyson</td>\n",
       "      <td>Regular Air</td>\n",
       "      <td>Small Business</td>\n",
       "      <td>Office Supplies</td>\n",
       "    </tr>\n",
       "    <tr>\n",
       "      <th>7</th>\n",
       "      <td>18181</td>\n",
       "      <td>Critical</td>\n",
       "      <td>0.00</td>\n",
       "      <td>4.42</td>\n",
       "      <td>4.99</td>\n",
       "      <td>15</td>\n",
       "      <td>Timothy Reese</td>\n",
       "      <td>Regular Air</td>\n",
       "      <td>Small Business</td>\n",
       "      <td>Office Supplies</td>\n",
       "    </tr>\n",
       "    <tr>\n",
       "      <th>8</th>\n",
       "      <td>20925</td>\n",
       "      <td>Medium</td>\n",
       "      <td>0.01</td>\n",
       "      <td>35.94</td>\n",
       "      <td>6.66</td>\n",
       "      <td>15</td>\n",
       "      <td>Timothy Reese</td>\n",
       "      <td>Regular Air</td>\n",
       "      <td>Small Business</td>\n",
       "      <td>Office Supplies</td>\n",
       "    </tr>\n",
       "    <tr>\n",
       "      <th>9</th>\n",
       "      <td>26267</td>\n",
       "      <td>High</td>\n",
       "      <td>0.04</td>\n",
       "      <td>2.98</td>\n",
       "      <td>1.58</td>\n",
       "      <td>16</td>\n",
       "      <td>Sarah Ramsey</td>\n",
       "      <td>Regular Air</td>\n",
       "      <td>Small Business</td>\n",
       "      <td>Office Supplies</td>\n",
       "    </tr>\n",
       "  </tbody>\n",
       "</table>\n",
       "</div>"
      ],
      "text/plain": [
       "   Row ID Order Priority  Discount  Unit Price  Shipping Cost  Customer ID  \\\n",
       "0   20847           High      0.01        2.84           0.93            3   \n",
       "1   20228  Not Specified      0.02      500.98          26.00            5   \n",
       "2   21776       Critical      0.06        9.48           7.29           11   \n",
       "3   24844         Medium      0.09       78.69          19.99           14   \n",
       "4   24846         Medium      0.08        3.28           2.31           14   \n",
       "5   24847         Medium      0.05        3.28           4.20           14   \n",
       "6   24848         Medium      0.05        3.58           1.63           14   \n",
       "7   18181       Critical      0.00        4.42           4.99           15   \n",
       "8   20925         Medium      0.01       35.94           6.66           15   \n",
       "9   26267           High      0.04        2.98           1.58           16   \n",
       "\n",
       "       Customer Name       Ship Mode Customer Segment Product Category  \n",
       "0      Bonnie Potter     Express Air        Corporate  Office Supplies  \n",
       "1     Ronnie Proctor  Delivery Truck      Home Office        Furniture  \n",
       "2      Marcus Dunlap     Regular Air      Home Office        Furniture  \n",
       "3  Gwendolyn F Tyson     Regular Air   Small Business        Furniture  \n",
       "4  Gwendolyn F Tyson     Regular Air   Small Business  Office Supplies  \n",
       "5  Gwendolyn F Tyson     Regular Air   Small Business  Office Supplies  \n",
       "6  Gwendolyn F Tyson     Regular Air   Small Business  Office Supplies  \n",
       "7      Timothy Reese     Regular Air   Small Business  Office Supplies  \n",
       "8      Timothy Reese     Regular Air   Small Business  Office Supplies  \n",
       "9       Sarah Ramsey     Regular Air   Small Business  Office Supplies  "
      ]
     },
     "execution_count": 57,
     "metadata": {},
     "output_type": "execute_result"
    }
   ],
   "source": [
    "gg.iloc[0:10,0:10]"
   ]
  },
  {
   "cell_type": "code",
   "execution_count": null,
   "id": "3774d768",
   "metadata": {},
   "outputs": [],
   "source": []
  }
 ],
 "metadata": {
  "kernelspec": {
   "display_name": "Python 3 (ipykernel)",
   "language": "python",
   "name": "python3"
  },
  "language_info": {
   "codemirror_mode": {
    "name": "ipython",
    "version": 3
   },
   "file_extension": ".py",
   "mimetype": "text/x-python",
   "name": "python",
   "nbconvert_exporter": "python",
   "pygments_lexer": "ipython3",
   "version": "3.9.12"
  }
 },
 "nbformat": 4,
 "nbformat_minor": 5
}
